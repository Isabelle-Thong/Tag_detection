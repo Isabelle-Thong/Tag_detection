{
 "cells": [
  {
   "cell_type": "markdown",
   "id": "bd70657c-9265-4e43-84ce-5f89b0b1ac34",
   "metadata": {},
   "source": [
    "## Use Augmentor to make variations of cropped tag"
   ]
  },
  {
   "cell_type": "code",
   "execution_count": 18,
   "id": "94ff21ec-b64b-442a-a2d5-a9e5c0016b79",
   "metadata": {},
   "outputs": [],
   "source": [
    "# !pip install Augmentorb"
   ]
  },
  {
   "cell_type": "code",
   "execution_count": 13,
   "id": "d8ac3aec-e3a6-4d5e-858c-07c4d087d249",
   "metadata": {},
   "outputs": [
    {
     "name": "stdout",
     "output_type": "stream",
     "text": [
      "Initialised with 5 image(s) found.\n",
      "Output directory set to C:\\Users\\ruyit\\Pictures\\Tag0\\output."
     ]
    },
    {
     "name": "stderr",
     "output_type": "stream",
     "text": [
      "Processing <PIL.Image.Image image mode=RGBA size=128x88 at 0x20BB368E790>: 100%|██████████| 100/100 [00:00<00:00, 286.03 Samples/s]               \n"
     ]
    }
   ],
   "source": [
    "import Augmentor\n",
    "\n",
    "# Create a pipeline and explicitly add the image directory\n",
    "p = Augmentor.Pipeline(r\"C:\\Users\\ruyit\\Pictures\\Tag0\")\n",
    "\n",
    "# Apply augmentations\n",
    "p.rotate(probability=0.7, max_left_rotation=15, max_right_rotation=15)\n",
    "p.zoom_random(probability=0.5, percentage_area=0.8)\n",
    "p.flip_left_right(probability=0.5)\n",
    "p.random_brightness(probability=0.5, min_factor=0.7, max_factor=1.3)\n",
    "\n",
    "# Generate 100 augmented images\n",
    "p.sample(100)"
   ]
  },
  {
   "cell_type": "code",
   "execution_count": 15,
   "id": "4c90e905-f7ca-45dc-855b-001a79c67f3c",
   "metadata": {},
   "outputs": [
    {
     "name": "stdout",
     "output_type": "stream",
     "text": [
      "Requirement already satisfied: labelImg in c:\\users\\ruyit\\anaconda3\\lib\\site-packages (1.8.6)\n",
      "Requirement already satisfied: pyqt5 in c:\\users\\ruyit\\anaconda3\\lib\\site-packages (from labelImg) (5.15.10)\n",
      "Requirement already satisfied: lxml in c:\\users\\ruyit\\anaconda3\\lib\\site-packages (from labelImg) (4.9.3)\n",
      "Requirement already satisfied: PyQt5-sip<13,>=12.13 in c:\\users\\ruyit\\anaconda3\\lib\\site-packages (from pyqt5->labelImg) (12.13.0)\n"
     ]
    }
   ],
   "source": [
    "# !pip install labelImg"
   ]
  },
  {
   "cell_type": "code",
   "execution_count": 20,
   "id": "f6c2c83b-5c7d-48ab-b2c9-730b3d09ae16",
   "metadata": {},
   "outputs": [
    {
     "name": "stdout",
     "output_type": "stream",
     "text": [
      "Requirement already satisfied: pyqt5 in c:\\users\\ruyit\\anaconda3\\lib\\site-packages (5.15.10)\n",
      "Requirement already satisfied: PyQt5-sip<13,>=12.13 in c:\\users\\ruyit\\anaconda3\\lib\\site-packages (from pyqt5) (12.13.0)\n",
      "Requirement already satisfied: lxml in c:\\users\\ruyit\\anaconda3\\lib\\site-packages (4.9.3)\n",
      "Requirement already satisfied: pillow in c:\\users\\ruyit\\anaconda3\\lib\\site-packages (10.2.0)\n"
     ]
    }
   ],
   "source": [
    "# !pip install pyqt5\n",
    "# !pip install lxml\n",
    "# !pip install pillow"
   ]
  },
  {
   "cell_type": "markdown",
   "id": "c43393be-af68-4aec-b5e0-611004024e9c",
   "metadata": {},
   "source": [
    "## Use LabelImg to draw bounding box\n",
    "**Note:** <br>\n",
    "Cannot use labelImg in Jupyter notebook. Need to use terminal/PowerShell <br>\n",
    "Terminal is opened (press Windows+R, and then type cmd)<br>\n",
    "Need to install Python [(Python Link)](https://www.python.org/downloads/) and Visual C++ Build Tools [(VCBT Link)](https://visualstudio.microsoft.com/visual-cpp-build-tools/) "
   ]
  },
  {
   "cell_type": "markdown",
   "id": "fce6d2ff-8399-4631-91cc-79f3b0383526",
   "metadata": {},
   "source": [
    "## Visualizing bounding box drawn"
   ]
  },
  {
   "cell_type": "code",
   "execution_count": 2,
   "id": "166632a0-2101-4144-b81c-3c7faf5db6c2",
   "metadata": {},
   "outputs": [
    {
     "name": "stdout",
     "output_type": "stream",
     "text": [
      "Requirement already satisfied: opencv-python in c:\\users\\ruyit\\anaconda3\\lib\\site-packages (4.10.0.84)\n",
      "Requirement already satisfied: matplotlib in c:\\users\\ruyit\\anaconda3\\lib\\site-packages (3.8.0)\n",
      "Requirement already satisfied: numpy>=1.21.2 in c:\\users\\ruyit\\anaconda3\\lib\\site-packages (from opencv-python) (1.26.4)\n",
      "Requirement already satisfied: contourpy>=1.0.1 in c:\\users\\ruyit\\anaconda3\\lib\\site-packages (from matplotlib) (1.2.0)\n",
      "Requirement already satisfied: cycler>=0.10 in c:\\users\\ruyit\\anaconda3\\lib\\site-packages (from matplotlib) (0.11.0)\n",
      "Requirement already satisfied: fonttools>=4.22.0 in c:\\users\\ruyit\\anaconda3\\lib\\site-packages (from matplotlib) (4.25.0)\n",
      "Requirement already satisfied: kiwisolver>=1.0.1 in c:\\users\\ruyit\\anaconda3\\lib\\site-packages (from matplotlib) (1.4.4)\n",
      "Requirement already satisfied: packaging>=20.0 in c:\\users\\ruyit\\anaconda3\\lib\\site-packages (from matplotlib) (23.1)\n",
      "Requirement already satisfied: pillow>=6.2.0 in c:\\users\\ruyit\\anaconda3\\lib\\site-packages (from matplotlib) (10.2.0)\n",
      "Requirement already satisfied: pyparsing>=2.3.1 in c:\\users\\ruyit\\anaconda3\\lib\\site-packages (from matplotlib) (3.0.9)\n",
      "Requirement already satisfied: python-dateutil>=2.7 in c:\\users\\ruyit\\anaconda3\\lib\\site-packages (from matplotlib) (2.8.2)\n",
      "Requirement already satisfied: six>=1.5 in c:\\users\\ruyit\\anaconda3\\lib\\site-packages (from python-dateutil>=2.7->matplotlib) (1.16.0)\n"
     ]
    }
   ],
   "source": [
    "# !pip install opencv-python matplotlib"
   ]
  },
  {
   "cell_type": "code",
   "execution_count": 2,
   "id": "e0284a4b-31be-4b11-abe8-87340b5bc024",
   "metadata": {},
   "outputs": [
    {
     "data": {
      "image/png": "[encoded data removed]",
      "text/plain": [
       "<Figure size 640x480 with 1 Axes>"
      ]
     },
     "metadata": {},
     "output_type": "display_data"
    }
   ],
   "source": [
    "import cv2\n",
    "import xml.etree.ElementTree as ET\n",
    "import matplotlib.pyplot as plt\n",
    "\n",
    "# Example path to images and XML files\n",
    "image_path = r\"C:\\Users\\ruyit\\Pictures\\Tag0\\output\\Tag0_original_Screenshot 2024-11-07 200240.png_0f7ae63a-c00b-4de9-a2d9-e8cb1d86c82c.png\"\n",
    "xml_path = r\"C:\\Users\\ruyit\\Pictures\\Tag_bbox\\Tag0_original_Screenshot 2024-11-07 200240.png_0f7ae63a-c00b-4de9-a2d9-e8cb1d86c82c.xml\"\n",
    "\n",
    "# Read image\n",
    "image = cv2.imread(image_path)\n",
    "image = cv2.cvtColor(image, cv2.COLOR_BGR2RGB)  # Convert to RGB format for displaying\n",
    "\n",
    "# Parse XML\n",
    "tree = ET.parse(xml_path)\n",
    "root = tree.getroot()\n",
    "\n",
    "# Extract bounding box coordinates\n",
    "xmin = int(root.find('.//xmin').text)\n",
    "ymin = int(root.find('.//ymin').text)\n",
    "xmax = int(root.find('.//xmax').text)\n",
    "ymax = int(root.find('.//ymax').text)\n",
    "\n",
    "# Draw bounding box on the image\n",
    "cv2.rectangle(image, (xmin, ymin), (xmax, ymax), (0, 255, 0), 2)\n",
    "\n",
    "# Display the image using matplotlib\n",
    "plt.imshow(image)\n",
    "plt.axis('off')  # Hide axes\n",
    "plt.show()"
   ]
  },
  {
   "cell_type": "code",
   "execution_count": null,
   "id": "ff79acfd-b540-4230-856c-8f3014c2e704",
   "metadata": {},
   "outputs": [],
   "source": []
  }
 ],
 "metadata": {
  "kernelspec": {
   "display_name": "Python 3 (ipykernel)",
   "language": "python",
   "name": "python3"
  },
  "language_info": {
   "codemirror_mode": {
    "name": "ipython",
    "version": 3
   },
   "file_extension": ".py",
   "mimetype": "text/x-python",
   "name": "python",
   "nbconvert_exporter": "python",
   "pygments_lexer": "ipython3",
   "version": "3.11.7"
  }
 },
 "nbformat": 4,
 "nbformat_minor": 5
}
